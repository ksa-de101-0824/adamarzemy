{
 "cells": [
  {
   "cell_type": "code",
   "execution_count": 2,
   "metadata": {},
   "outputs": [
    {
     "name": "stdout",
     "output_type": "stream",
     "text": [
      "Adam noor arzemy\n"
     ]
    }
   ],
   "source": [
    "name = \"AdaM NooR ARZEmy\"\n",
    "print(name.capitalize())"
   ]
  },
  {
   "cell_type": "code",
   "execution_count": 3,
   "metadata": {},
   "outputs": [
    {
     "name": "stdout",
     "output_type": "stream",
     "text": [
      "Adam Noor Arzemy\n"
     ]
    }
   ],
   "source": [
    "name = \"AdaM NooR ARZEmy\"\n",
    "print(name.title())"
   ]
  },
  {
   "cell_type": "code",
   "execution_count": 4,
   "metadata": {},
   "outputs": [
    {
     "name": "stdout",
     "output_type": "stream",
     "text": [
      "AdaM Noo R AR ZEmy\n"
     ]
    }
   ],
   "source": [
    "name = \" AdaM Noo R AR ZEmy \"\n",
    "print(name.strip())"
   ]
  },
  {
   "cell_type": "code",
   "execution_count": 5,
   "metadata": {},
   "outputs": [
    {
     "name": "stdout",
     "output_type": "stream",
     "text": [
      "AdaM Noo R AR ZEmy\n",
      " Adam Noo R Ar Zemy \n"
     ]
    },
    {
     "ename": "TypeError",
     "evalue": "str.join() takes exactly one argument (0 given)",
     "output_type": "error",
     "traceback": [
      "\u001b[0;31m---------------------------------------------------------------------------\u001b[0m",
      "\u001b[0;31mTypeError\u001b[0m                                 Traceback (most recent call last)",
      "Cell \u001b[0;32mIn[5], line 4\u001b[0m\n\u001b[1;32m      2\u001b[0m \u001b[38;5;28mprint\u001b[39m(name\u001b[38;5;241m.\u001b[39mstrip())\n\u001b[1;32m      3\u001b[0m \u001b[38;5;28mprint\u001b[39m(name\u001b[38;5;241m.\u001b[39mtitle())\n\u001b[0;32m----> 4\u001b[0m \u001b[38;5;28mprint\u001b[39m(\u001b[43mname\u001b[49m\u001b[38;5;241;43m.\u001b[39;49m\u001b[43mjoin\u001b[49m\u001b[43m(\u001b[49m\u001b[43m)\u001b[49m)\n",
      "\u001b[0;31mTypeError\u001b[0m: str.join() takes exactly one argument (0 given)"
     ]
    }
   ],
   "source": [
    "name = \" AdaM Noo R AR ZEmy \"\n",
    "print(name.strip())\n",
    "print(name.title())\n",
    "print(name.join())\n"
   ]
  },
  {
   "cell_type": "code",
   "execution_count": 6,
   "metadata": {},
   "outputs": [
    {
     "name": "stdout",
     "output_type": "stream",
     "text": [
      "Adam Noo R Ar Zemy\n"
     ]
    }
   ],
   "source": [
    "name = \" AdaM Noo R AR ZEmy \"\n",
    "New_name = \" \".join(name.strip().split()).title()\n",
    "print(New_name)\n"
   ]
  },
  {
   "cell_type": "code",
   "execution_count": 8,
   "metadata": {},
   "outputs": [],
   "source": [
    "New_name = New_name.replace(\"Noo\", \"Noor\").replace(\"R Ar Zemy\",\"Arzemy\")"
   ]
  },
  {
   "cell_type": "code",
   "execution_count": 9,
   "metadata": {},
   "outputs": [
    {
     "name": "stdout",
     "output_type": "stream",
     "text": [
      "Adam Noo R Ar Zemy\n"
     ]
    }
   ],
   "source": [
    "name = \" AdaM Noo R AR ZEmy \"\n",
    "New_name = \" \".join(name.strip().split()).title()\n",
    "print(New_name)\n",
    "New_name = New_name.replace(\"Noo\", \"Noor\").replace(\"R Ar Zemy\",\"Arzemy\")"
   ]
  },
  {
   "cell_type": "code",
   "execution_count": 10,
   "metadata": {},
   "outputs": [],
   "source": [
    "New_name= \"Adam Noo R Ar Zemy\"\n",
    "New_name = New_name.replace(\"Noo\", \"Noor\").replace(\"R Ar Zemy\",\"Arzemy\")"
   ]
  },
  {
   "cell_type": "code",
   "execution_count": 11,
   "metadata": {},
   "outputs": [
    {
     "name": "stdout",
     "output_type": "stream",
     "text": [
      "Adam Noor Arzemy Zemy\n"
     ]
    }
   ],
   "source": [
    "New_name = \"Adam Noo R Ar Zemy\"\n",
    "New_name = New_name.replace(\"Noo\", \"Noor\").replace(\"R Ar\", \"Arzemy\")\n",
    "print(New_name)\n"
   ]
  },
  {
   "cell_type": "code",
   "execution_count": 12,
   "metadata": {},
   "outputs": [
    {
     "name": "stdout",
     "output_type": "stream",
     "text": [
      "Adam Noor Arzemy\n"
     ]
    }
   ],
   "source": [
    "New_name = \"Adam Noo R Ar Zemy\"\n",
    "New_name = New_name.replace(\"Noo\", \"Noor\").replace(\"R Ar Zemy\", \"Arzemy\")\n",
    "print(New_name)\n"
   ]
  },
  {
   "cell_type": "code",
   "execution_count": null,
   "metadata": {},
   "outputs": [],
   "source": []
  },
  {
   "cell_type": "code",
   "execution_count": 14,
   "metadata": {},
   "outputs": [
    {
     "data": {
      "text/plain": [
       "'Adam NoorArzemy'"
      ]
     },
     "execution_count": 14,
     "metadata": {},
     "output_type": "execute_result"
    }
   ],
   "source": [
    "New_name = \"Adam Noo R Ar Zemy\"\n",
    "New_name.replace(\"Noo R\", \"Noor\").replace(\" Ar Zemy\", \"Arzemy\")"
   ]
  },
  {
   "cell_type": "code",
   "execution_count": 15,
   "metadata": {},
   "outputs": [
    {
     "data": {
      "text/plain": [
       "'Adam Noor Arzemy'"
      ]
     },
     "execution_count": 15,
     "metadata": {},
     "output_type": "execute_result"
    }
   ],
   "source": [
    "New_name = \"Adam Noo R Ar Zemy\"\n",
    "New_name.replace(\"Noo R\", \"Noor \").replace(\" Ar Zemy\", \"Arzemy\")"
   ]
  },
  {
   "cell_type": "code",
   "execution_count": 18,
   "metadata": {},
   "outputs": [
    {
     "name": "stdout",
     "output_type": "stream",
     "text": [
      "Hello Wordl\n"
     ]
    }
   ],
   "source": [
    "print(\"Hello Wordl\")"
   ]
  },
  {
   "cell_type": "code",
   "execution_count": 19,
   "metadata": {},
   "outputs": [
    {
     "name": "stdout",
     "output_type": "stream",
     "text": [
      "Hello Wordl\n"
     ]
    }
   ],
   "source": [
    "print(\"Hello Wordl\")"
   ]
  },
  {
   "cell_type": "code",
   "execution_count": 3,
   "metadata": {},
   "outputs": [
    {
     "name": "stdout",
     "output_type": "stream",
     "text": [
      "float64\n",
      "float32\n"
     ]
    }
   ],
   "source": [
    "import numpy as np\n",
    "float = 3.14\n",
    "float_64 = np.float64(3.14)\n",
    "float_32 = np.float32(3.14)\n",
    "\n",
    "print(float_64.dtype)\n",
    "print(float_32.dtype)"
   ]
  },
  {
   "cell_type": "code",
   "execution_count": 4,
   "metadata": {},
   "outputs": [
    {
     "name": "stdout",
     "output_type": "stream",
     "text": [
      "Rahman\n"
     ]
    }
   ],
   "source": [
    "name = [\"Adam\",\"Rahman\",\"Kamarul\"]\n",
    "print(name[1])"
   ]
  },
  {
   "cell_type": "code",
   "execution_count": 5,
   "metadata": {},
   "outputs": [
    {
     "name": "stdout",
     "output_type": "stream",
     "text": [
      "['Adam', 'Rahman', 'Kamarul', 'Rahman']\n"
     ]
    }
   ],
   "source": [
    "#Add item in List\n",
    "names = [\"Adam\",\"Rahman\",\"Kamarul\"]\n",
    "names.append(\"Rahman\")\n",
    "print(names)"
   ]
  },
  {
   "cell_type": "code",
   "execution_count": 7,
   "metadata": {},
   "outputs": [
    {
     "name": "stdout",
     "output_type": "stream",
     "text": [
      "['Adam', 'Rahman', 'Kamarul', 'Rahman']\n"
     ]
    }
   ],
   "source": [
    "names = [\"Adam\",\"Rahman\",\"Kamarul\"]\n",
    "names.insert(3,\"Rahman\")\n",
    "print(names)"
   ]
  },
  {
   "cell_type": "code",
   "execution_count": 8,
   "metadata": {},
   "outputs": [
    {
     "name": "stdout",
     "output_type": "stream",
     "text": [
      "['Adam', 'Rahman', 'Rahman', 'Kamarul']\n"
     ]
    }
   ],
   "source": [
    "names = [\"Adam\",\"Rahman\",\"Kamarul\"]\n",
    "names.insert(1,\"Rahman\")\n",
    "print(names)"
   ]
  },
  {
   "cell_type": "code",
   "execution_count": 10,
   "metadata": {},
   "outputs": [
    {
     "ename": "AttributeError",
     "evalue": "'NoneType' object has no attribute 'extend'",
     "output_type": "error",
     "traceback": [
      "\u001b[0;31m---------------------------------------------------------------------------\u001b[0m",
      "\u001b[0;31mAttributeError\u001b[0m                            Traceback (most recent call last)",
      "Cell \u001b[0;32mIn[10], line 5\u001b[0m\n\u001b[1;32m      2\u001b[0m names_2 \u001b[38;5;241m=\u001b[39m [\u001b[38;5;124m\"\u001b[39m\u001b[38;5;124mAzim\u001b[39m\u001b[38;5;124m\"\u001b[39m,\u001b[38;5;124m\"\u001b[39m\u001b[38;5;124mAzman\u001b[39m\u001b[38;5;124m\"\u001b[39m,\u001b[38;5;124m\"\u001b[39m\u001b[38;5;124mAfiq\u001b[39m\u001b[38;5;124m\"\u001b[39m,\u001b[38;5;124m\"\u001b[39m\u001b[38;5;124mAfikah\u001b[39m\u001b[38;5;124m\"\u001b[39m,\u001b[38;5;124m\"\u001b[39m\u001b[38;5;124mKamala\u001b[39m\u001b[38;5;124m\"\u001b[39m]\n\u001b[1;32m      3\u001b[0m names_3 \u001b[38;5;241m=\u001b[39m [\u001b[38;5;124m\"\u001b[39m\u001b[38;5;124mSulaiman\u001b[39m\u001b[38;5;124m\"\u001b[39m,\u001b[38;5;124m\"\u001b[39m\u001b[38;5;124mSuhaimi\u001b[39m\u001b[38;5;124m\"\u001b[39m,\u001b[38;5;124m\"\u001b[39m\u001b[38;5;124mSham\u001b[39m\u001b[38;5;124m\"\u001b[39m]\n\u001b[0;32m----> 5\u001b[0m \u001b[43mnames\u001b[49m\u001b[38;5;241;43m.\u001b[39;49m\u001b[43mextend\u001b[49m\u001b[43m(\u001b[49m\u001b[43mnames_2\u001b[49m\u001b[43m)\u001b[49m\u001b[38;5;241;43m.\u001b[39;49m\u001b[43mextend\u001b[49m(names_3)\n\u001b[1;32m      6\u001b[0m \u001b[38;5;28mprint\u001b[39m(names)\n",
      "\u001b[0;31mAttributeError\u001b[0m: 'NoneType' object has no attribute 'extend'"
     ]
    }
   ],
   "source": [
    "names_1 = [\"Adam\",\"Rahman\",\"Kamarul\"]\n",
    "names_2 = [\"Azim\",\"Azman\",\"Afiq\",\"Afikah\",\"Kamala\"]\n",
    "names_3 = [\"Sulaiman\",\"Suhaimi\",\"Sham\"]\n",
    "\n",
    "names.extend(names_2).extend(names_3)\n",
    "print(names)"
   ]
  },
  {
   "cell_type": "code",
   "execution_count": 11,
   "metadata": {},
   "outputs": [
    {
     "name": "stdout",
     "output_type": "stream",
     "text": [
      "['Adam', 'Rahman', 'Rahman', 'Kamarul', 'Azim', 'Azman', 'Afiq', 'Afikah', 'Kamala', 'Azim', 'Azman', 'Afiq', 'Afikah', 'Kamala', 'Azim', 'Azman', 'Afiq', 'Afikah', 'Kamala', 'Sulaiman', 'Suhaimi', 'Sham']\n"
     ]
    }
   ],
   "source": [
    "names_1 = [\"Adam\",\"Rahman\",\"Kamarul\"]\n",
    "names_2 = [\"Azim\",\"Azman\",\"Afiq\",\"Afikah\",\"Kamala\"]\n",
    "names_3 = [\"Sulaiman\",\"Suhaimi\",\"Sham\"]\n",
    "\n",
    "names.extend(names_2)\n",
    "names.extend(names_3)\n",
    "print(names)"
   ]
  },
  {
   "cell_type": "code",
   "execution_count": 15,
   "metadata": {},
   "outputs": [
    {
     "name": "stdout",
     "output_type": "stream",
     "text": [
      "['Adam', 'Rahman', 'Kamarul', 'Azim', 'Azman', 'Afiq', 'Afikah', 'Kamala', 'Sulaiman', 'Suhaimi', 'Sham']\n"
     ]
    }
   ],
   "source": [
    "names_1 = [\"Adam\",\"Rahman\",\"Kamarul\"]\n",
    "names_2 = [\"Azim\",\"Azman\",\"Afiq\",\"Afikah\",\"Kamala\"]\n",
    "names_3 = [\"Sulaiman\",\"Suhaimi\",\"Sham\"]\n",
    "\n",
    "names = names_1 + names_2 + names_3\n",
    "print(names)"
   ]
  },
  {
   "cell_type": "code",
   "execution_count": 17,
   "metadata": {},
   "outputs": [
    {
     "name": "stdout",
     "output_type": "stream",
     "text": [
      "['Adam', 'Rahman']\n"
     ]
    }
   ],
   "source": [
    "names_1 = [\"Adam\",\"Rahman\",\"Kamarul\"]\n",
    "names_2 = [\"Azim\",\"Azman\",\"Afiq\",\"Afikah\",\"Kamala\"]\n",
    "names_3 = [\"Sulaiman\",\"Suhaimi\",\"Sham\"]\n",
    "\n",
    "names_1.pop(2)\n",
    "print(names_1)"
   ]
  },
  {
   "cell_type": "code",
   "execution_count": 18,
   "metadata": {},
   "outputs": [
    {
     "ename": "TypeError",
     "evalue": "pop expected at most 1 argument, got 2",
     "output_type": "error",
     "traceback": [
      "\u001b[0;31m---------------------------------------------------------------------------\u001b[0m",
      "\u001b[0;31mTypeError\u001b[0m                                 Traceback (most recent call last)",
      "Cell \u001b[0;32mIn[18], line 2\u001b[0m\n\u001b[1;32m      1\u001b[0m names_2 \u001b[38;5;241m=\u001b[39m [\u001b[38;5;124m\"\u001b[39m\u001b[38;5;124mAzim\u001b[39m\u001b[38;5;124m\"\u001b[39m,\u001b[38;5;124m\"\u001b[39m\u001b[38;5;124mAzman\u001b[39m\u001b[38;5;124m\"\u001b[39m,\u001b[38;5;124m\"\u001b[39m\u001b[38;5;124mAfiq\u001b[39m\u001b[38;5;124m\"\u001b[39m,\u001b[38;5;124m\"\u001b[39m\u001b[38;5;124mAfikah\u001b[39m\u001b[38;5;124m\"\u001b[39m,\u001b[38;5;124m\"\u001b[39m\u001b[38;5;124mKamala\u001b[39m\u001b[38;5;124m\"\u001b[39m,\u001b[38;5;124m\"\u001b[39m\u001b[38;5;124mAzman\u001b[39m\u001b[38;5;124m\"\u001b[39m]\n\u001b[0;32m----> 2\u001b[0m \u001b[43mnames_2\u001b[49m\u001b[38;5;241;43m.\u001b[39;49m\u001b[43mpop\u001b[49m\u001b[43m(\u001b[49m\u001b[38;5;241;43m2\u001b[39;49m\u001b[43m,\u001b[49m\u001b[38;5;241;43m7\u001b[39;49m\u001b[43m)\u001b[49m\n\u001b[1;32m      3\u001b[0m \u001b[38;5;28mprint\u001b[39m(names_2)\n",
      "\u001b[0;31mTypeError\u001b[0m: pop expected at most 1 argument, got 2"
     ]
    }
   ],
   "source": [
    "names_2 = [\"Azim\",\"Azman\",\"Afiq\",\"Afikah\",\"Kamala\",\"Azman\"]\n",
    "names_2.pop(2,7)\n",
    "print(names_2)"
   ]
  },
  {
   "cell_type": "code",
   "execution_count": 20,
   "metadata": {},
   "outputs": [
    {
     "ename": "TypeError",
     "evalue": "pop expected at most 1 argument, got 2",
     "output_type": "error",
     "traceback": [
      "\u001b[0;31m---------------------------------------------------------------------------\u001b[0m",
      "\u001b[0;31mTypeError\u001b[0m                                 Traceback (most recent call last)",
      "Cell \u001b[0;32mIn[20], line 2\u001b[0m\n\u001b[1;32m      1\u001b[0m names_2 \u001b[38;5;241m=\u001b[39m [\u001b[38;5;124m\"\u001b[39m\u001b[38;5;124mAzim\u001b[39m\u001b[38;5;124m\"\u001b[39m,\u001b[38;5;124m\"\u001b[39m\u001b[38;5;124mAzman\u001b[39m\u001b[38;5;124m\"\u001b[39m,\u001b[38;5;124m\"\u001b[39m\u001b[38;5;124mAfiq\u001b[39m\u001b[38;5;124m\"\u001b[39m,\u001b[38;5;124m\"\u001b[39m\u001b[38;5;124mAfikah\u001b[39m\u001b[38;5;124m\"\u001b[39m,\u001b[38;5;124m\"\u001b[39m\u001b[38;5;124mKamala\u001b[39m\u001b[38;5;124m\"\u001b[39m,\u001b[38;5;124m\"\u001b[39m\u001b[38;5;124mAzman\u001b[39m\u001b[38;5;124m\"\u001b[39m]\n\u001b[0;32m----> 2\u001b[0m \u001b[43mnames_2\u001b[49m\u001b[38;5;241;43m.\u001b[39;49m\u001b[43mpop\u001b[49m\u001b[43m(\u001b[49m\u001b[38;5;241;43m1\u001b[39;49m\u001b[43m,\u001b[49m\u001b[38;5;241;43m5\u001b[39;49m\u001b[43m)\u001b[49m\n\u001b[1;32m      3\u001b[0m \u001b[38;5;28mprint\u001b[39m(names_2)\n",
      "\u001b[0;31mTypeError\u001b[0m: pop expected at most 1 argument, got 2"
     ]
    }
   ],
   "source": [
    "names_2 = [\"Azim\",\"Azman\",\"Afiq\",\"Afikah\",\"Kamala\",\"Azman\"]\n",
    "names_2.pop(1,5)\n",
    "print(names_2)"
   ]
  },
  {
   "cell_type": "code",
   "execution_count": 22,
   "metadata": {},
   "outputs": [
    {
     "name": "stdout",
     "output_type": "stream",
     "text": [
      "['Azim', 'Afiq', 'Afikah', 'Kamala']\n"
     ]
    }
   ],
   "source": [
    "names_2 = [\"Azim\",\"Azman\",\"Afiq\",\"Afikah\",\"Kamala\",\"Azman\"]\n",
    "while \"Azman\" in names_2:\n",
    "     names_2.remove(\"Azman\") #In loop this line shall be indented\n",
    "print(names_2)"
   ]
  },
  {
   "cell_type": "code",
   "execution_count": 23,
   "metadata": {},
   "outputs": [
    {
     "name": "stdout",
     "output_type": "stream",
     "text": [
      "['Azman', 'Afiq', 'Afikah', 'Kamala', 'Azman']\n"
     ]
    }
   ],
   "source": [
    "names_2 = [\"Azim\",\"Azman\",\"Afiq\",\"Afikah\",\"Kamala\",\"Azman\"]\n",
    "names_2.pop(-6)\n",
    "print(names_2)"
   ]
  },
  {
   "cell_type": "code",
   "execution_count": null,
   "metadata": {},
   "outputs": [],
   "source": []
  }
 ],
 "metadata": {
  "kernelspec": {
   "display_name": "Python 3",
   "language": "python",
   "name": "python3"
  },
  "language_info": {
   "codemirror_mode": {
    "name": "ipython",
    "version": 3
   },
   "file_extension": ".py",
   "mimetype": "text/x-python",
   "name": "python",
   "nbconvert_exporter": "python",
   "pygments_lexer": "ipython3",
   "version": "3.12.1"
  }
 },
 "nbformat": 4,
 "nbformat_minor": 2
}
