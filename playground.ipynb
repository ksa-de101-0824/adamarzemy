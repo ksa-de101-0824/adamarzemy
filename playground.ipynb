{
 "cells": [
  {
   "cell_type": "code",
   "execution_count": 2,
   "metadata": {},
   "outputs": [
    {
     "name": "stdout",
     "output_type": "stream",
     "text": [
      "Adam noor arzemy\n"
     ]
    }
   ],
   "source": [
    "name = \"AdaM NooR ARZEmy\"\n",
    "print(name.capitalize())"
   ]
  },
  {
   "cell_type": "code",
   "execution_count": 3,
   "metadata": {},
   "outputs": [
    {
     "name": "stdout",
     "output_type": "stream",
     "text": [
      "Adam Noor Arzemy\n"
     ]
    }
   ],
   "source": [
    "name = \"AdaM NooR ARZEmy\"\n",
    "print(name.title())"
   ]
  },
  {
   "cell_type": "code",
   "execution_count": 4,
   "metadata": {},
   "outputs": [
    {
     "name": "stdout",
     "output_type": "stream",
     "text": [
      "AdaM Noo R AR ZEmy\n"
     ]
    }
   ],
   "source": [
    "name = \" AdaM Noo R AR ZEmy \"\n",
    "print(name.strip())"
   ]
  },
  {
   "cell_type": "code",
   "execution_count": 5,
   "metadata": {},
   "outputs": [
    {
     "name": "stdout",
     "output_type": "stream",
     "text": [
      "AdaM Noo R AR ZEmy\n",
      " Adam Noo R Ar Zemy \n"
     ]
    },
    {
     "ename": "TypeError",
     "evalue": "str.join() takes exactly one argument (0 given)",
     "output_type": "error",
     "traceback": [
      "\u001b[0;31m---------------------------------------------------------------------------\u001b[0m",
      "\u001b[0;31mTypeError\u001b[0m                                 Traceback (most recent call last)",
      "Cell \u001b[0;32mIn[5], line 4\u001b[0m\n\u001b[1;32m      2\u001b[0m \u001b[38;5;28mprint\u001b[39m(name\u001b[38;5;241m.\u001b[39mstrip())\n\u001b[1;32m      3\u001b[0m \u001b[38;5;28mprint\u001b[39m(name\u001b[38;5;241m.\u001b[39mtitle())\n\u001b[0;32m----> 4\u001b[0m \u001b[38;5;28mprint\u001b[39m(\u001b[43mname\u001b[49m\u001b[38;5;241;43m.\u001b[39;49m\u001b[43mjoin\u001b[49m\u001b[43m(\u001b[49m\u001b[43m)\u001b[49m)\n",
      "\u001b[0;31mTypeError\u001b[0m: str.join() takes exactly one argument (0 given)"
     ]
    }
   ],
   "source": [
    "name = \" AdaM Noo R AR ZEmy \"\n",
    "print(name.strip())\n",
    "print(name.title())\n",
    "print(name.join())\n"
   ]
  },
  {
   "cell_type": "code",
   "execution_count": 6,
   "metadata": {},
   "outputs": [
    {
     "name": "stdout",
     "output_type": "stream",
     "text": [
      "Adam Noo R Ar Zemy\n"
     ]
    }
   ],
   "source": [
    "name = \" AdaM Noo R AR ZEmy \"\n",
    "New_name = \" \".join(name.strip().split()).title()\n",
    "print(New_name)\n"
   ]
  },
  {
   "cell_type": "code",
   "execution_count": 8,
   "metadata": {},
   "outputs": [],
   "source": [
    "New_name = New_name.replace(\"Noo\", \"Noor\").replace(\"R Ar Zemy\",\"Arzemy\")"
   ]
  },
  {
   "cell_type": "code",
   "execution_count": 9,
   "metadata": {},
   "outputs": [
    {
     "name": "stdout",
     "output_type": "stream",
     "text": [
      "Adam Noo R Ar Zemy\n"
     ]
    }
   ],
   "source": [
    "name = \" AdaM Noo R AR ZEmy \"\n",
    "New_name = \" \".join(name.strip().split()).title()\n",
    "print(New_name)\n",
    "New_name = New_name.replace(\"Noo\", \"Noor\").replace(\"R Ar Zemy\",\"Arzemy\")"
   ]
  },
  {
   "cell_type": "code",
   "execution_count": 10,
   "metadata": {},
   "outputs": [],
   "source": [
    "New_name= \"Adam Noo R Ar Zemy\"\n",
    "New_name = New_name.replace(\"Noo\", \"Noor\").replace(\"R Ar Zemy\",\"Arzemy\")"
   ]
  },
  {
   "cell_type": "code",
   "execution_count": 11,
   "metadata": {},
   "outputs": [
    {
     "name": "stdout",
     "output_type": "stream",
     "text": [
      "Adam Noor Arzemy Zemy\n"
     ]
    }
   ],
   "source": [
    "New_name = \"Adam Noo R Ar Zemy\"\n",
    "New_name = New_name.replace(\"Noo\", \"Noor\").replace(\"R Ar\", \"Arzemy\")\n",
    "print(New_name)\n"
   ]
  },
  {
   "cell_type": "code",
   "execution_count": 12,
   "metadata": {},
   "outputs": [
    {
     "name": "stdout",
     "output_type": "stream",
     "text": [
      "Adam Noor Arzemy\n"
     ]
    }
   ],
   "source": [
    "New_name = \"Adam Noo R Ar Zemy\"\n",
    "New_name = New_name.replace(\"Noo\", \"Noor\").replace(\"R Ar Zemy\", \"Arzemy\")\n",
    "print(New_name)\n"
   ]
  },
  {
   "cell_type": "code",
   "execution_count": null,
   "metadata": {},
   "outputs": [],
   "source": []
  },
  {
   "cell_type": "code",
   "execution_count": 14,
   "metadata": {},
   "outputs": [
    {
     "data": {
      "text/plain": [
       "'Adam NoorArzemy'"
      ]
     },
     "execution_count": 14,
     "metadata": {},
     "output_type": "execute_result"
    }
   ],
   "source": [
    "New_name = \"Adam Noo R Ar Zemy\"\n",
    "New_name.replace(\"Noo R\", \"Noor\").replace(\" Ar Zemy\", \"Arzemy\")"
   ]
  },
  {
   "cell_type": "code",
   "execution_count": 15,
   "metadata": {},
   "outputs": [
    {
     "data": {
      "text/plain": [
       "'Adam Noor Arzemy'"
      ]
     },
     "execution_count": 15,
     "metadata": {},
     "output_type": "execute_result"
    }
   ],
   "source": [
    "New_name = \"Adam Noo R Ar Zemy\"\n",
    "New_name.replace(\"Noo R\", \"Noor \").replace(\" Ar Zemy\", \"Arzemy\")"
   ]
  },
  {
   "cell_type": "code",
   "execution_count": 18,
   "metadata": {},
   "outputs": [
    {
     "name": "stdout",
     "output_type": "stream",
     "text": [
      "Hello Wordl\n"
     ]
    }
   ],
   "source": [
    "print(\"Hello Wordl\")"
   ]
  },
  {
   "cell_type": "code",
   "execution_count": 19,
   "metadata": {},
   "outputs": [
    {
     "name": "stdout",
     "output_type": "stream",
     "text": [
      "Hello Wordl\n"
     ]
    }
   ],
   "source": [
    "print(\"Hello Wordl\")"
   ]
  },
  {
   "cell_type": "code",
   "execution_count": null,
   "metadata": {},
   "outputs": [],
   "source": []
  }
 ],
 "metadata": {
  "kernelspec": {
   "display_name": "Python 3",
   "language": "python",
   "name": "python3"
  },
  "language_info": {
   "codemirror_mode": {
    "name": "ipython",
    "version": 3
   },
   "file_extension": ".py",
   "mimetype": "text/x-python",
   "name": "python",
   "nbconvert_exporter": "python",
   "pygments_lexer": "ipython3",
   "version": "3.12.1"
  }
 },
 "nbformat": 4,
 "nbformat_minor": 2
}
