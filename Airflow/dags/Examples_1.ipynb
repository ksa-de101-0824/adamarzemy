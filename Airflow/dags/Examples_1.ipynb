{
 "cells": [
  {
   "cell_type": "markdown",
   "metadata": {},
   "source": [
    "# Ways to write DAG for Tasks"
   ]
  },
  {
   "cell_type": "markdown",
   "metadata": {},
   "source": [
    "## Basic Sequential Workflow\n",
    "The simplest form of a workflow is a sequential flow, where tasks are executed one after another.\n",
    "\n"
   ]
  },
  {
   "cell_type": "code",
   "execution_count": null,
   "metadata": {},
   "outputs": [],
   "source": [
    "\"\"\"\n",
    "Example: Task A >> Task B >> Task C\n",
    "\"\"\"\n",
    "with DAG(\n",
    "    dag_id='sequential_workflow',\n",
    "    default_args=default_args,\n",
    "    schedule_interval=None,\n",
    "    description=\"A simple sequential workflow\"\n",
    ") as dag:\n",
    "\n",
    "    task_a = DummyOperator(task_id='task_a')\n",
    "    task_b = DummyOperator(task_id='task_b')\n",
    "    task_c = DummyOperator(task_id='task_c')\n",
    "\n",
    "    # Define the sequential flow\n",
    "    task_a >> task_b >> task_c\n"
   ]
  },
  {
   "cell_type": "markdown",
   "metadata": {},
   "source": [
    "## Parallel Workflow\n",
    "In this workflow, one task executes and then splits into multiple parallel tasks that run at the same time. This is useful when you want to perform multiple independent tasks after a common task.\n",
    "\n",
    "In this example, Task B and Task C are executed at the same time after Task A completes.\n"
   ]
  },
  {
   "cell_type": "code",
   "execution_count": null,
   "metadata": {},
   "outputs": [],
   "source": [
    "\"\"\"\n",
    "Example: Task A >> [Task B, Task C] (Parallel Execution)\n",
    "\"\"\"\n",
    "with DAG(\n",
    "    dag_id='parallel_workflow',\n",
    "    default_args=default_args,\n",
    "    schedule_interval=None,\n",
    "    description=\"A parallel workflow\"\n",
    ") as dag:\n",
    "\n",
    "    task_a = DummyOperator(task_id='task_a')\n",
    "    task_b = DummyOperator(task_id='task_b')\n",
    "    task_c = DummyOperator(task_id='task_c')\n",
    "\n",
    "    # Define parallel flow: Task A splits into Task B and Task C\n",
    "    task_a >> [task_b, task_c]\n"
   ]
  },
  {
   "cell_type": "markdown",
   "metadata": {},
   "source": [
    "## Converging Parallel Workflow\n",
    "After parallel tasks complete, you might want them to converge and trigger a common downstream task. This pattern is useful when tasks need to merge back together.\n",
    "\n",
    "In this case, Task D will not run until both Task B and Task C have completed.\n",
    "\n"
   ]
  },
  {
   "cell_type": "code",
   "execution_count": null,
   "metadata": {},
   "outputs": [],
   "source": [
    "\"\"\"\n",
    "Example: Task A >> [Task B, Task C] >> Task D (Converging Workflow)\n",
    "\"\"\"\n",
    "with DAG(\n",
    "    dag_id='converging_workflow',\n",
    "    default_args=default_args,\n",
    "    schedule_interval=None,\n",
    "    description=\"A converging workflow\"\n",
    ") as dag:\n",
    "\n",
    "    task_a = DummyOperator(task_id='task_a')\n",
    "    task_b = DummyOperator(task_id='task_b')\n",
    "    task_c = DummyOperator(task_id='task_c')\n",
    "    task_d = DummyOperator(task_id='task_d')\n",
    "\n",
    "    # Define parallel and converging flow\n",
    "    task_a >> [task_b, task_c] >> task_d\n"
   ]
  },
  {
   "cell_type": "markdown",
   "metadata": {},
   "source": [
    "## Branching Workflow (Diverging Workflow)\n",
    "Branching involves choosing one path among several based on a condition. You use the `BranchPythonOperator` to implement branching. This is useful for scenarios where the flow should diverge based on some logic.\n",
    "\n",
    "In this case, based on the choose_branch function, either Task B or Task C will run after Task A, but not both."
   ]
  },
  {
   "cell_type": "code",
   "execution_count": null,
   "metadata": {},
   "outputs": [],
   "source": [
    "\"\"\"\n",
    "Example: Task A >> [Task B or Task C] (Branching Workflow)\n",
    "\"\"\"\n",
    "from airflow.operators.python import BranchPythonOperator\n",
    "\n",
    "def choose_branch(**kwargs):\n",
    "    # Logic to choose which task to run\n",
    "    if some_condition:\n",
    "        return 'task_b'\n",
    "    else:\n",
    "        return 'task_c'\n",
    "\n",
    "with DAG(\n",
    "    dag_id='branching_workflow',\n",
    "    default_args=default_args,\n",
    "    schedule_interval=None,\n",
    "    description=\"A branching workflow\"\n",
    ") as dag:\n",
    "\n",
    "    task_a = DummyOperator(task_id='task_a')\n",
    "    task_b = DummyOperator(task_id='task_b')\n",
    "    task_c = DummyOperator(task_id='task_c')\n",
    "\n",
    "    branch_op = BranchPythonOperator(\n",
    "        task_id='branch_task',\n",
    "        python_callable=choose_branch\n",
    "    )\n",
    "\n",
    "    # Define branching flow\n",
    "    task_a >> branch_op >> [task_b, task_c]\n",
    "\n"
   ]
  },
  {
   "cell_type": "markdown",
   "metadata": {},
   "source": [
    "## Diverging and Converging (Mixed Workflow)\n",
    "You can also combine diverging and converging workflows. For example, the flow diverges based on a condition but then converges again at a common task.\n",
    "\n",
    "In this scenario:\n",
    "\n",
    "- Task B or Task C is executed based on the branch logic.\n",
    "- Task D is executed after either Task B or Task C completes."
   ]
  },
  {
   "cell_type": "code",
   "execution_count": null,
   "metadata": {},
   "outputs": [],
   "source": [
    "\"\"\"\n",
    "Example: Task A >> [Task B or Task C] >> Task D (Diverging and Converging)\n",
    "\"\"\"\n",
    "from airflow.operators.python import BranchPythonOperator\n",
    "\n",
    "def choose_branch(**kwargs):\n",
    "    # Logic to choose which task to run\n",
    "    if some_condition:\n",
    "        return 'task_b'\n",
    "    else:\n",
    "        return 'task_c'\n",
    "\n",
    "with DAG(\n",
    "    dag_id='diverge_converge_workflow',\n",
    "    default_args=default_args,\n",
    "    schedule_interval=None,\n",
    "    description=\"A diverging and converging workflow\"\n",
    ") as dag:\n",
    "\n",
    "    task_a = DummyOperator(task_id='task_a')\n",
    "    task_b = DummyOperator(task_id='task_b')\n",
    "    task_c = DummyOperator(task_id='task_c')\n",
    "    task_d = DummyOperator(task_id='task_d')\n",
    "\n",
    "    branch_op = BranchPythonOperator(\n",
    "        task_id='branch_task',\n",
    "        python_callable=choose_branch\n",
    "    )\n",
    "\n",
    "    # Diverging and converging flow\n",
    "    task_a >> branch_op >> [task_b, task_c] >> task_d"
   ]
  },
  {
   "cell_type": "markdown",
   "metadata": {},
   "source": [
    "## Advanced Parallelism (Two Separate Lanes Merging)\n",
    "You can create two completely separate lanes of tasks, with each lane consisting of multiple tasks, and then merge them together at the end.\n",
    "\n",
    "- Here, Task A splits into two independent lanes (Task B and Task C), and both converge at Task D.\n",
    "- Task D will only run after both Task B and Task C have completed."
   ]
  },
  {
   "cell_type": "code",
   "execution_count": null,
   "metadata": {},
   "outputs": [],
   "source": [
    "\"\"\"\n",
    "Example: Task A >> Task B >> Task D and Task A >> Task C >> Task D (Two Lanes Converging)\n",
    "\"\"\"\n",
    "with DAG(\n",
    "    dag_id='two_lanes_converging',\n",
    "    default_args=default_args,\n",
    "    schedule_interval=None,\n",
    "    description=\"Two lanes converging\"\n",
    ") as dag:\n",
    "\n",
    "    task_a = DummyOperator(task_id='task_a')\n",
    "    task_b = DummyOperator(task_id='task_b')\n",
    "    task_c = DummyOperator(task_id='task_c')\n",
    "    task_d = DummyOperator(task_id='task_d')\n",
    "\n",
    "    # Two lanes\n",
    "    task_a >> task_b >> task_d\n",
    "    task_a >> task_c >> task_d\n"
   ]
  },
  {
   "cell_type": "markdown",
   "metadata": {},
   "source": [
    "# When to Use Each Pattern:\n",
    "- `Sequential Workflow`: Use this when tasks must be executed one after another with strict order.\n",
    "\n",
    "- `Parallel Workflow`: Use when tasks can be executed simultaneously and don’t depend on each other.\n",
    "- `Converging Workflow`: Use when multiple parallel tasks must complete before moving on to the next task.\n",
    "- `Branching Workflow`: Use when you need to choose between different paths based on conditions.\n",
    "- `Diverging and Converging Workflow`: Use when branching is required, but the workflow needs to merge back into a common task later.\n",
    "- `Two-Lane Workflow`: Use when there are two independent sets of tasks that eventually converge at a single task."
   ]
  },
  {
   "cell_type": "markdown",
   "metadata": {},
   "source": [
    "# Summary of Concepts:\n",
    "- `Sequential Tasks`: Tasks execute in order, one after another.\n",
    "\n",
    "- `Parallel Tasks`: Tasks execute simultaneously.\n",
    "- `Branching`: Diverging paths where only one is executed based on conditions.\n",
    "- `Converging`: Multiple parallel paths converge into a single task.\n",
    "- `Two Lanes`: Independent sets of tasks that later converge."
   ]
  }
 ],
 "metadata": {
  "language_info": {
   "name": "python"
  }
 },
 "nbformat": 4,
 "nbformat_minor": 2
}
