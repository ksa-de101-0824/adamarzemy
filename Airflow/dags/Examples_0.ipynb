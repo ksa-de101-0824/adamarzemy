{
 "cells": [
  {
   "cell_type": "markdown",
   "metadata": {},
   "source": [
    "# Ways to write DAG for Scheduling\n",
    "\n",
    "https://airflow.apache.org/docs/apache-airflow/stable/authoring-and-scheduling/cron.html"
   ]
  },
  {
   "cell_type": "markdown",
   "metadata": {},
   "source": [
    "## `schedule_interval`"
   ]
  },
  {
   "cell_type": "markdown",
   "metadata": {},
   "source": [
    "### Scheduling intervals using `presets`\n",
    "Airflow provides a set of predefined intervals for common schedules. These are shortcuts that correspond to specific cron expressions."
   ]
  },
  {
   "cell_type": "code",
   "execution_count": null,
   "metadata": {},
   "outputs": [],
   "source": [
    "### Given the example:\n",
    "with DAG(\n",
    "    dag_id='SOME_DAG_ID',\n",
    "    default_args=default_args,\n",
    "    schedule_interval=None,\n",
    "    description=\"SOME_DAG_DESC\"\n",
    ") as dag:"
   ]
  },
  {
   "cell_type": "code",
   "execution_count": null,
   "metadata": {},
   "outputs": [],
   "source": [
    "\"\"\"\n",
    "@once: Run the DAG only once as soon as the DAG is triggered.\n",
    "\"\"\"\n",
    "with DAG(\n",
    "    dag_id='SOME_DAG_ID',\n",
    "    default_args=default_args,\n",
    "    schedule_interval=\"@once\",\n",
    "    description=\"SOME_DAG_DESC\"\n",
    ") as dag:"
   ]
  },
  {
   "cell_type": "code",
   "execution_count": null,
   "metadata": {},
   "outputs": [],
   "source": [
    "\"\"\"\n",
    "@hourly: Run the DAG once every hour.\n",
    "\"\"\"\n",
    "with DAG(\n",
    "    dag_id='SOME_DAG_ID',\n",
    "    default_args=default_args,\n",
    "    schedule_interval=\"@hourly\",\n",
    "    description=\"SOME_DAG_DESC\"\n",
    ") as dag:"
   ]
  },
  {
   "cell_type": "code",
   "execution_count": null,
   "metadata": {},
   "outputs": [],
   "source": [
    "\"\"\"\n",
    "@daily: Run the DAG once every day at midnight (00:00).\n",
    "\"\"\"\n",
    "with DAG(\n",
    "    dag_id='SOME_DAG_ID',\n",
    "    default_args=default_args,\n",
    "    schedule_interval=\"@daily\",\n",
    "    description=\"SOME_DAG_DESC\"\n",
    ") as dag:"
   ]
  },
  {
   "cell_type": "code",
   "execution_count": null,
   "metadata": {},
   "outputs": [],
   "source": [
    "\"\"\"\n",
    "@weekly: Run the DAG once a week on Sunday at midnight (00:00).\n",
    "\"\"\"\n",
    "with DAG(\n",
    "    dag_id='SOME_DAG_ID',\n",
    "    default_args=default_args,\n",
    "    schedule_interval=\"@weekly\",\n",
    "    description=\"SOME_DAG_DESC\"\n",
    ") as dag:"
   ]
  },
  {
   "cell_type": "code",
   "execution_count": null,
   "metadata": {},
   "outputs": [],
   "source": [
    "\"\"\"\n",
    "@monthly: Run the DAG once a month on the first day of the month at midnight (00:00).\n",
    "\"\"\"\n",
    "with DAG(\n",
    "    dag_id='SOME_DAG_ID',\n",
    "    default_args=default_args,\n",
    "    schedule_interval=\"@monthly\",\n",
    "    description=\"SOME_DAG_DESC\"\n",
    ") as dag:"
   ]
  },
  {
   "cell_type": "code",
   "execution_count": null,
   "metadata": {},
   "outputs": [],
   "source": [
    "\"\"\"\n",
    "@yearly or @annually: Run the DAG once a year on January 1st at midnight (00:00).\n",
    "\"\"\"\n",
    "with DAG(\n",
    "    dag_id='SOME_DAG_ID',\n",
    "    default_args=default_args,\n",
    "    schedule_interval=\"@yearly\",\n",
    "    description=\"SOME_DAG_DESC\"\n",
    ") as dag:"
   ]
  },
  {
   "cell_type": "markdown",
   "metadata": {},
   "source": [
    "### Scheduling intervals using `timedelta`\n",
    "You can use Python's timedelta to specify intervals in terms of hours, days, or other time units. This allows for flexible and programmatic scheduling."
   ]
  },
  {
   "cell_type": "code",
   "execution_count": null,
   "metadata": {},
   "outputs": [],
   "source": [
    "\"\"\"\n",
    "Run every hour:\n",
    "\"\"\"\n",
    "from datetime import timedelta\n",
    "\n",
    "with DAG(\n",
    "    dag_id='SOME_DAG_ID',\n",
    "    default_args=default_args,\n",
    "    schedule_interval=timedelta(hours=1),\n",
    "    description=\"SOME_DAG_DESC\"\n",
    ") as dag:"
   ]
  },
  {
   "cell_type": "code",
   "execution_count": null,
   "metadata": {},
   "outputs": [],
   "source": [
    "\"\"\"\n",
    "Run every day (equivalent to @daily):\n",
    "\"\"\"\n",
    "from datetime import timedelta\n",
    "\n",
    "with DAG(\n",
    "    dag_id='SOME_DAG_ID',\n",
    "    default_args=default_args,\n",
    "    schedule_interval=timedelta(days=1),\n",
    "    description=\"SOME_DAG_DESC\"\n",
    ") as dag:"
   ]
  },
  {
   "cell_type": "code",
   "execution_count": null,
   "metadata": {},
   "outputs": [],
   "source": [
    "\"\"\"\n",
    "Run every week (equivalent to @weekly):\n",
    "\"\"\"\n",
    "from datetime import timedelta\n",
    "\n",
    "with DAG(\n",
    "    dag_id='SOME_DAG_ID',\n",
    "    default_args=default_args,\n",
    "    schedule_interval=timedelta(weeks=1),\n",
    "    description=\"SOME_DAG_DESC\"\n",
    ") as dag:"
   ]
  },
  {
   "cell_type": "code",
   "execution_count": null,
   "metadata": {},
   "outputs": [],
   "source": [
    "\"\"\"\n",
    "Run every month (approximated as 30 days):\n",
    "\"\"\"\n",
    "from datetime import timedelta\n",
    "\n",
    "with DAG(\n",
    "    dag_id='SOME_DAG_ID',\n",
    "    default_args=default_args,\n",
    "    schedule_interval=timedelta(days=30),\n",
    "    description=\"SOME_DAG_DESC\"\n",
    ") as dag:"
   ]
  },
  {
   "cell_type": "code",
   "execution_count": null,
   "metadata": {},
   "outputs": [],
   "source": [
    "\"\"\"\n",
    "Run every 15 minutes (custom interval):\n",
    "\"\"\"\n",
    "from datetime import timedelta\n",
    "\n",
    "with DAG(\n",
    "    dag_id='SOME_DAG_ID',\n",
    "    default_args=default_args,\n",
    "    schedule_interval=timedelta(minutes=15),\n",
    "    description=\"SOME_DAG_DESC\"\n",
    ") as dag:"
   ]
  },
  {
   "cell_type": "markdown",
   "metadata": {},
   "source": [
    "### Scheduling intervals using `CRON`\n",
    "Cron expressions offer the most control and precision for scheduling. They are composed of 5 fields representing:\n",
    "\n",
    "- Minute (0-59)\n",
    "\n",
    "- Hour (0-23)\n",
    "\n",
    "- Day of the month (1-31)\n",
    "\n",
    "- Month (1-12)\n",
    "\n",
    "- Day of the week (0-6) (Sunday to Saturday)"
   ]
  },
  {
   "cell_type": "code",
   "execution_count": null,
   "metadata": {},
   "outputs": [],
   "source": [
    "\"\"\"\n",
    "Every day at 9 AM:\n",
    "\"\"\"\n",
    "from datetime import timedelta\n",
    "\n",
    "with DAG(\n",
    "    dag_id='SOME_DAG_ID',\n",
    "    default_args=default_args,\n",
    "    schedule_interval='0 9 * * *',\n",
    "    description=\"SOME_DAG_DESC\"\n",
    ") as dag:"
   ]
  },
  {
   "cell_type": "code",
   "execution_count": null,
   "metadata": {},
   "outputs": [],
   "source": [
    "\"\"\"\n",
    "Every Monday at 6 PM:\n",
    "\"\"\"\n",
    "from datetime import timedelta\n",
    "\n",
    "with DAG(\n",
    "    dag_id='SOME_DAG_ID',\n",
    "    default_args=default_args,\n",
    "    schedule_interval='0 18 * * 1',\n",
    "    description=\"SOME_DAG_DESC\"\n",
    ") as dag:"
   ]
  },
  {
   "cell_type": "code",
   "execution_count": null,
   "metadata": {},
   "outputs": [],
   "source": [
    "\"\"\"\n",
    "Every 15 minutes:\n",
    "\"\"\"\n",
    "from datetime import timedelta\n",
    "\n",
    "with DAG(\n",
    "    dag_id='SOME_DAG_ID',\n",
    "    default_args=default_args,\n",
    "    schedule_interval='*/15 * * * *',\n",
    "    description=\"SOME_DAG_DESC\"\n",
    ") as dag:"
   ]
  },
  {
   "cell_type": "code",
   "execution_count": null,
   "metadata": {},
   "outputs": [],
   "source": [
    "\"\"\"\n",
    "First day of every month at midnight:\n",
    "\"\"\"\n",
    "from datetime import timedelta\n",
    "\n",
    "with DAG(\n",
    "    dag_id='SOME_DAG_ID',\n",
    "    default_args=default_args,\n",
    "    schedule_interval='0 0 1 * *',\n",
    "    description=\"SOME_DAG_DESC\"\n",
    ") as dag:"
   ]
  },
  {
   "cell_type": "markdown",
   "metadata": {},
   "source": [
    "## `start_date`\n",
    "The start_date defines when the DAG should start executing. It tells Airflow when to begin scheduling the DAG, and it’s required for all DAGs."
   ]
  },
  {
   "cell_type": "markdown",
   "metadata": {},
   "source": [
    "### Start Date using `datetime`"
   ]
  },
  {
   "cell_type": "code",
   "execution_count": null,
   "metadata": {},
   "outputs": [],
   "source": [
    "\"\"\"\n",
    "Fixed start date:\n",
    "\"\"\"\n",
    "from datetime import timedelta\n",
    "\n",
    "with DAG(\n",
    "    dag_id='SOME_DAG_ID',\n",
    "    default_args=default_args,\n",
    "    schedule_interval=None,\n",
    "    start_date=datetime(2024, 9, 12, 10, 0), # Start on September 12, 2024, at 10:00 AM\n",
    "    description=\"SOME_DAG_DESC\"\n",
    ") as dag:"
   ]
  },
  {
   "cell_type": "markdown",
   "metadata": {},
   "source": [
    "### Start Date using `days_ago`"
   ]
  },
  {
   "cell_type": "code",
   "execution_count": null,
   "metadata": {},
   "outputs": [],
   "source": [
    "\"\"\"\n",
    "Relative start date using days_ago:\n",
    "\n",
    "The days_ago(n) function is a helper function that sets the start date relative to the current time. \n",
    "It's a flexible way to avoid hardcoding the date.\n",
    "\"\"\"\n",
    "from airflow.utils.dates import days_ago\n",
    "\n",
    "with DAG(\n",
    "    dag_id='SOME_DAG_ID',\n",
    "    default_args=default_args,\n",
    "    schedule_interval=None,\n",
    "    start_date=days_ago(3),\n",
    "    description=\"SOME_DAG_DESC\"\n",
    ") as dag:"
   ]
  },
  {
   "cell_type": "markdown",
   "metadata": {},
   "source": [
    "## `end_date`\n",
    "The end_date defines when the DAG should stop being scheduled. Once the end_date is reached, Airflow will no longer schedule new runs for that DAG, even if the schedule_interval suggests more runs."
   ]
  },
  {
   "cell_type": "markdown",
   "metadata": {},
   "source": [
    "### End Date using `datetime`"
   ]
  },
  {
   "cell_type": "code",
   "execution_count": null,
   "metadata": {},
   "outputs": [],
   "source": [
    "\"\"\"\n",
    "Fixed end date:\n",
    "\n",
    "Specify a hard end date using the datetime module.\n",
    "\"\"\"\n",
    "from datetime import timedelta\n",
    "\n",
    "with DAG(\n",
    "    dag_id='SOME_DAG_ID',\n",
    "    default_args=default_args,\n",
    "    schedule_interval=None,\n",
    "    start_date=datetime(2024, 9, 12, 10, 0), # Start on September 12, 2024, at 10:00 AM\n",
    "    end_date=datetime(2024, 12, 31), # Stop scheduling the DAG after December 31, 2024\n",
    "    description=\"SOME_DAG_DESC\"\n",
    ") as dag:"
   ]
  },
  {
   "cell_type": "code",
   "execution_count": null,
   "metadata": {},
   "outputs": [],
   "source": [
    "\"\"\"\n",
    "No end date:\n",
    "\n",
    "If you don’t set an end_date, the DAG will continue to run indefinitely according to the schedule_interval.\n",
    "\"\"\"\n",
    "from datetime import timedelta\n",
    "\n",
    "with DAG(\n",
    "    dag_id='SOME_DAG_ID',\n",
    "    default_args=default_args,\n",
    "    schedule_interval=None,\n",
    "    start_date=datetime(2024, 9, 12, 10, 0), # Start on September 12, 2024, at 10:00 AM\n",
    "    end_date=datetime(2024, 9, 30, 18, 0), # End the DAG at 6:00 PM on September 30, 2024\n",
    "    description=\"SOME_DAG_DESC\"\n",
    ") as dag:"
   ]
  },
  {
   "cell_type": "markdown",
   "metadata": {},
   "source": [
    "### To never end the pipeline using `None`"
   ]
  },
  {
   "cell_type": "code",
   "execution_count": null,
   "metadata": {},
   "outputs": [],
   "source": [
    "\"\"\"\n",
    "No end date:\n",
    "\n",
    "If you don’t set an end_date, the DAG will continue to run indefinitely according to the schedule_interval.\n",
    "\"\"\"\n",
    "from datetime import timedelta\n",
    "\n",
    "with DAG(\n",
    "    dag_id='SOME_DAG_ID',\n",
    "    default_args=default_args,\n",
    "    schedule_interval=None,\n",
    "    start_date=datetime(2024, 9, 12, 10, 0), # Start on September 12, 2024, at 10:00 AM\n",
    "    end_date=None, # Stop scheduling the DAG after December 31, 2024\n",
    "    description=\"SOME_DAG_DESC\"\n",
    ") as dag:"
   ]
  }
 ],
 "metadata": {
  "language_info": {
   "name": "python"
  }
 },
 "nbformat": 4,
 "nbformat_minor": 2
}
